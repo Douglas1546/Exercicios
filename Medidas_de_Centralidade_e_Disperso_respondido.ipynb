{
 "cells": [
  {
   "cell_type": "markdown",
   "metadata": {},
   "source": [
    "# Introdução à Ciência de Dados - UFPB\n",
    "Professor: Yuri Malheiros\n",
    "\n",
    "## Medidas de Centralidade e Dispersão"
   ]
  },
  {
   "cell_type": "markdown",
   "metadata": {},
   "source": [
    "A partir do dataset `movies.csv` calcule a média, mediana e desvio padrão para as colunas:"
   ]
  },
  {
   "cell_type": "markdown",
   "metadata": {},
   "source": [
    "### US Gross"
   ]
  },
  {
   "cell_type": "code",
   "execution_count": 1,
   "metadata": {},
   "outputs": [
    {
     "name": "stdout",
     "output_type": "stream",
     "text": [
      "A quantidade de US Gross listado é: 3194\n",
      "O valor total somando todos os Us Gross é: 140542660013.0\n",
      "A média é : 44002085.2\n",
      "A mediana é: 22019465.5\n"
     ]
    }
   ],
   "source": [
    "# ADICIONE O SEU CÓDIGO AQUI\n",
    "import pandas as pd\n",
    "import numpy as np\n",
    "\n",
    "movies_df = pd.read_csv(\"datasets/movies.csv\")\n",
    "quantidade = movies_df[\"US Gross\"].count()\n",
    "print(\"A quantidade de US Gross listado é:\",quantidade)\n",
    "valores = movies_df[\"US Gross\"]\n",
    "valor_total = valores.sum()\n",
    "print(\"O valor total somando todos os Us Gross é:\",valor_total)\n",
    "media = valor_total / quantidade\n",
    "print(f\"A média é : {media:.1f}\")\n",
    "mediana = valores.median()\n",
    "print(f\"A mediana é: {mediana:.1f}\")"
   ]
  },
  {
   "cell_type": "markdown",
   "metadata": {},
   "source": [
    "### Production Budget"
   ]
  },
  {
   "cell_type": "code",
   "execution_count": 2,
   "metadata": {},
   "outputs": [
    {
     "name": "stdout",
     "output_type": "stream",
     "text": [
      "A quantidade de Production Budget listado é: 3200\n",
      "O valor total somando todos os Production Budget é: 99421348635.0\n",
      "A média é : 31069171.4\n",
      "A mediana é: 20000000.0\n"
     ]
    }
   ],
   "source": [
    "# ADICIONE O SEU CÓDIGO AQUI\n",
    "\n",
    "movies_df = pd.read_csv(\"datasets/movies.csv\")\n",
    "quantidade = movies_df[\"Production Budget\"].count()\n",
    "print(\"A quantidade de Production Budget listado é:\",quantidade)\n",
    "valores = movies_df[\"Production Budget\"]\n",
    "valor_total = valores.sum()\n",
    "print(\"O valor total somando todos os Production Budget é:\",valor_total)\n",
    "media = valor_total / quantidade\n",
    "print(f\"A média é : {media:.1f}\")\n",
    "mediana = valores.median()\n",
    "print(f\"A mediana é: {mediana:.1f}\")"
   ]
  },
  {
   "cell_type": "markdown",
   "metadata": {},
   "source": [
    "### Running Time"
   ]
  },
  {
   "cell_type": "code",
   "execution_count": 3,
   "metadata": {},
   "outputs": [
    {
     "name": "stdout",
     "output_type": "stream",
     "text": [
      "A quantidade de Running Time listado é: 1209\n",
      "O valor total somando todos os Running Time é: 133224.0\n",
      "A média é : 110.2\n",
      "A mediana é: 107.0\n"
     ]
    }
   ],
   "source": [
    "# ADICIONE O SEU CÓDIGO AQUI\n",
    "\n",
    "movies_df = pd.read_csv(\"datasets/movies.csv\")\n",
    "quantidade = movies_df[\"Running Time (min)\"].count()\n",
    "print(\"A quantidade de Running Time listado é:\",quantidade)\n",
    "valores = movies_df[\"Running Time (min)\"]\n",
    "valor_total = valores.sum()\n",
    "print(\"O valor total somando todos os Running Time é:\",valor_total)\n",
    "media = valor_total / quantidade\n",
    "print(f\"A média é : {media:.1f}\")\n",
    "mediana = valores.median()\n",
    "print(f\"A mediana é: {mediana:.1f}\")"
   ]
  },
  {
   "cell_type": "markdown",
   "metadata": {},
   "source": [
    "### IMDB Rating"
   ]
  },
  {
   "cell_type": "code",
   "execution_count": 4,
   "metadata": {},
   "outputs": [
    {
     "name": "stdout",
     "output_type": "stream",
     "text": [
      "A quantidade de IMDB Rating listado é: 2988\n",
      "O valor total somando todos os IMDB Rating é: 18775.0\n",
      "A média é : 6.3\n",
      "A mediana é: 6.4\n"
     ]
    }
   ],
   "source": [
    "# ADICIONE O SEU CÓDIGO AQUI\n",
    "\n",
    "movies_df = pd.read_csv(\"datasets/movies.csv\")\n",
    "quantidade = movies_df[\"IMDB Rating\"].count()\n",
    "print(\"A quantidade de IMDB Rating listado é:\",quantidade)\n",
    "valores = movies_df[\"IMDB Rating\"]\n",
    "valor_total = valores.sum()\n",
    "print(\"O valor total somando todos os IMDB Rating é:\",valor_total)\n",
    "media = valor_total / quantidade\n",
    "print(f\"A média é : {media:.1f}\")\n",
    "mediana = valores.median()\n",
    "print(f\"A mediana é: {mediana:.1f}\")"
   ]
  },
  {
   "cell_type": "markdown",
   "metadata": {},
   "source": [
    "### IMDB Votes"
   ]
  },
  {
   "cell_type": "code",
   "execution_count": 5,
   "metadata": {},
   "outputs": [
    {
     "name": "stdout",
     "output_type": "stream",
     "text": [
      "A quantidade de IMDB Votes listado é: 2988\n",
      "O valor total somando todos os IMDB Votes é: 89367030.0\n",
      "A média é : 29908.6\n",
      "A mediana é: 15106.0\n"
     ]
    }
   ],
   "source": [
    "# ADICIONE O SEU CÓDIGO AQUI\n",
    "\n",
    "movies_df = pd.read_csv(\"datasets/movies.csv\")\n",
    "quantidade = movies_df[\"IMDB Votes\"].count()\n",
    "print(\"A quantidade de IMDB Votes listado é:\",quantidade)\n",
    "valores = movies_df[\"IMDB Votes\"]\n",
    "valor_total = valores.sum()\n",
    "print(\"O valor total somando todos os IMDB Votes é:\",valor_total)\n",
    "media = valor_total / quantidade\n",
    "print(f\"A média é : {media:.1f}\")\n",
    "mediana = valores.median()\n",
    "print(f\"A mediana é: {mediana:.1f}\")"
   ]
  },
  {
   "cell_type": "markdown",
   "metadata": {},
   "source": [
    "### Análise dos Resultados\n",
    "\n",
    "Quais colunas tiveram valores muito diferentes entre média e mediana? Quais os seus desvios padrão?"
   ]
  },
  {
   "cell_type": "markdown",
   "metadata": {},
   "source": [
    "R: US Gross e Production Budget."
   ]
  },
  {
   "cell_type": "markdown",
   "metadata": {},
   "source": [
    "Que conclusões podemos tirar desses resultados?"
   ]
  },
  {
   "cell_type": "markdown",
   "metadata": {},
   "source": [
    "R: Que em média, quase todos os filmes são intermediários aos olhos do público, poucos vão além da média."
   ]
  }
 ],
 "metadata": {
  "kernelspec": {
   "display_name": "Python 3",
   "language": "python",
   "name": "python3"
  },
  "language_info": {
   "codemirror_mode": {
    "name": "ipython",
    "version": 3
   },
   "file_extension": ".py",
   "mimetype": "text/x-python",
   "name": "python",
   "nbconvert_exporter": "python",
   "pygments_lexer": "ipython3",
   "version": "3.9.2"
  }
 },
 "nbformat": 4,
 "nbformat_minor": 4
}
