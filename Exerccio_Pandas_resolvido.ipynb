{
 "cells": [
  {
   "cell_type": "markdown",
   "metadata": {},
   "source": [
    "# Introdução à Ciência de Dados - UFPB\n",
    "Professor: Yuri Malheiros\n",
    "\n",
    "## Pandas"
   ]
  },
  {
   "cell_type": "markdown",
   "metadata": {},
   "source": [
    "A partir do dataset `movies.csv` utilize o Pandas para responder as seguintes perguntas:"
   ]
  },
  {
   "cell_type": "markdown",
   "metadata": {},
   "source": [
    "### Qual o gênero de filme mais lucrativo em todo o mundo?"
   ]
  },
  {
   "cell_type": "code",
   "execution_count": 1,
   "metadata": {},
   "outputs": [
    {
     "data": {
      "text/plain": [
       "Worldwide Gross    2767891499.0\n",
       "Major Genre              Action\n",
       "Name: 1234, dtype: object"
      ]
     },
     "execution_count": 1,
     "metadata": {},
     "output_type": "execute_result"
    }
   ],
   "source": [
    "# ADICIONE O SEU CÓDIGO AQUI\n",
    "\n",
    "import pandas as pd\n",
    "\n",
    "movies_df = pd.read_csv(\"datasets/movies.csv\")\n",
    "movies_df.sort_values(by=\"Worldwide Gross\", ascending = False)[[\"Worldwide Gross\",\"Major Genre\"]]\n",
    "movies_df.iloc[1234][[\"Worldwide Gross\",\"Major Genre\"]]\n"
   ]
  },
  {
   "cell_type": "markdown",
   "metadata": {},
   "source": [
    "### Qual o diretor dirigiu mais filmes?"
   ]
  },
  {
   "cell_type": "code",
   "execution_count": 2,
   "metadata": {},
   "outputs": [
    {
     "name": "stdout",
     "output_type": "stream",
     "text": [
      "Steven Spielberg dirigiu mais filmes\n"
     ]
    },
    {
     "data": {
      "text/plain": [
       "Steven Spielberg      23\n",
       "Woody Allen           16\n",
       "Martin Scorsese       15\n",
       "Spike Lee             15\n",
       "Ridley Scott          14\n",
       "                      ..\n",
       "Tony Bill              1\n",
       "David Mamet            1\n",
       "Christophe Gans        1\n",
       "Billy Bob Thornton     1\n",
       "Michael O. Sajbel      1\n",
       "Name: Director, Length: 550, dtype: int64"
      ]
     },
     "execution_count": 2,
     "metadata": {},
     "output_type": "execute_result"
    }
   ],
   "source": [
    "# ADICIONE O SEU CÓDIGO AQUI\n",
    "from collections import Counter\n",
    "\n",
    "movies_df[\"Director\"]\n",
    "Directors = movies_df[\"Director\"].value_counts()\n",
    "\n",
    "print(\"Steven Spielberg dirigiu mais filmes\")\n",
    "Directors\n"
   ]
  },
  {
   "cell_type": "markdown",
   "metadata": {},
   "source": [
    "### Quais filmes tiverem os maiores arrecadações (Gross) em relação ao orçamento de produção (Budget)?"
   ]
  },
  {
   "cell_type": "code",
   "execution_count": 3,
   "metadata": {},
   "outputs": [
    {
     "data": {
      "text/html": [
       "<div>\n",
       "<style scoped>\n",
       "    .dataframe tbody tr th:only-of-type {\n",
       "        vertical-align: middle;\n",
       "    }\n",
       "\n",
       "    .dataframe tbody tr th {\n",
       "        vertical-align: top;\n",
       "    }\n",
       "\n",
       "    .dataframe thead th {\n",
       "        text-align: right;\n",
       "    }\n",
       "</style>\n",
       "<table border=\"1\" class=\"dataframe\">\n",
       "  <thead>\n",
       "    <tr style=\"text-align: right;\">\n",
       "      <th></th>\n",
       "      <th>Title</th>\n",
       "      <th>US Gross</th>\n",
       "      <th>Production Budget</th>\n",
       "      <th>Lucro Bruto</th>\n",
       "    </tr>\n",
       "  </thead>\n",
       "  <tbody>\n",
       "    <tr>\n",
       "      <th>1234</th>\n",
       "      <td>Avatar</td>\n",
       "      <td>760167650.0</td>\n",
       "      <td>237000000.0</td>\n",
       "      <td>523167650.0</td>\n",
       "    </tr>\n",
       "    <tr>\n",
       "      <th>912</th>\n",
       "      <td>Star Wars Ep. IV: A New Hope</td>\n",
       "      <td>460998007.0</td>\n",
       "      <td>11000000.0</td>\n",
       "      <td>449998007.0</td>\n",
       "    </tr>\n",
       "    <tr>\n",
       "      <th>296</th>\n",
       "      <td>ET: The Extra-Terrestrial</td>\n",
       "      <td>435110554.0</td>\n",
       "      <td>10500000.0</td>\n",
       "      <td>424610554.0</td>\n",
       "    </tr>\n",
       "    <tr>\n",
       "      <th>2970</th>\n",
       "      <td>Titanic</td>\n",
       "      <td>600788188.0</td>\n",
       "      <td>200000000.0</td>\n",
       "      <td>400788188.0</td>\n",
       "    </tr>\n",
       "    <tr>\n",
       "      <th>2741</th>\n",
       "      <td>Shrek 2</td>\n",
       "      <td>441226247.0</td>\n",
       "      <td>70000000.0</td>\n",
       "      <td>371226247.0</td>\n",
       "    </tr>\n",
       "    <tr>\n",
       "      <th>...</th>\n",
       "      <td>...</td>\n",
       "      <td>...</td>\n",
       "      <td>...</td>\n",
       "      <td>...</td>\n",
       "    </tr>\n",
       "    <tr>\n",
       "      <th>404</th>\n",
       "      <td>Hell's Angels</td>\n",
       "      <td>NaN</td>\n",
       "      <td>4000000.0</td>\n",
       "      <td>NaN</td>\n",
       "    </tr>\n",
       "    <tr>\n",
       "      <th>467</th>\n",
       "      <td>Intolerance</td>\n",
       "      <td>NaN</td>\n",
       "      <td>385907.0</td>\n",
       "      <td>NaN</td>\n",
       "    </tr>\n",
       "    <tr>\n",
       "      <th>1025</th>\n",
       "      <td>Waterloo</td>\n",
       "      <td>NaN</td>\n",
       "      <td>25000000.0</td>\n",
       "      <td>NaN</td>\n",
       "    </tr>\n",
       "    <tr>\n",
       "      <th>1028</th>\n",
       "      <td>Wings</td>\n",
       "      <td>NaN</td>\n",
       "      <td>2000000.0</td>\n",
       "      <td>NaN</td>\n",
       "    </tr>\n",
       "    <tr>\n",
       "      <th>1271</th>\n",
       "      <td>Baby Mama</td>\n",
       "      <td>60494212.0</td>\n",
       "      <td>NaN</td>\n",
       "      <td>NaN</td>\n",
       "    </tr>\n",
       "  </tbody>\n",
       "</table>\n",
       "<p>3201 rows × 4 columns</p>\n",
       "</div>"
      ],
      "text/plain": [
       "                             Title     US Gross  Production Budget  \\\n",
       "1234                        Avatar  760167650.0        237000000.0   \n",
       "912   Star Wars Ep. IV: A New Hope  460998007.0         11000000.0   \n",
       "296      ET: The Extra-Terrestrial  435110554.0         10500000.0   \n",
       "2970                       Titanic  600788188.0        200000000.0   \n",
       "2741                       Shrek 2  441226247.0         70000000.0   \n",
       "...                            ...          ...                ...   \n",
       "404                  Hell's Angels          NaN          4000000.0   \n",
       "467                    Intolerance          NaN           385907.0   \n",
       "1025                      Waterloo          NaN         25000000.0   \n",
       "1028                         Wings          NaN          2000000.0   \n",
       "1271                     Baby Mama   60494212.0                NaN   \n",
       "\n",
       "      Lucro Bruto  \n",
       "1234  523167650.0  \n",
       "912   449998007.0  \n",
       "296   424610554.0  \n",
       "2970  400788188.0  \n",
       "2741  371226247.0  \n",
       "...           ...  \n",
       "404           NaN  \n",
       "467           NaN  \n",
       "1025          NaN  \n",
       "1028          NaN  \n",
       "1271          NaN  \n",
       "\n",
       "[3201 rows x 4 columns]"
      ]
     },
     "execution_count": 3,
     "metadata": {},
     "output_type": "execute_result"
    }
   ],
   "source": [
    "# ADICIONE O SEU CÓDIGO AQUI\n",
    "movies_df[\"Lucro Bruto\"] = movies_df[\"US Gross\"] - movies_df[\"Production Budget\"]\n",
    "movies_df.sort_values(by=\"Lucro Bruto\", ascending = False)[[\"Title\",\"US Gross\",\"Production Budget\",\"Lucro Bruto\"]]"
   ]
  },
  {
   "cell_type": "code",
   "execution_count": null,
   "metadata": {},
   "outputs": [],
   "source": []
  }
 ],
 "metadata": {
  "kernelspec": {
   "display_name": "Python 3",
   "language": "python",
   "name": "python3"
  },
  "language_info": {
   "codemirror_mode": {
    "name": "ipython",
    "version": 3
   },
   "file_extension": ".py",
   "mimetype": "text/x-python",
   "name": "python",
   "nbconvert_exporter": "python",
   "pygments_lexer": "ipython3",
   "version": "3.9.2"
  }
 },
 "nbformat": 4,
 "nbformat_minor": 4
}
